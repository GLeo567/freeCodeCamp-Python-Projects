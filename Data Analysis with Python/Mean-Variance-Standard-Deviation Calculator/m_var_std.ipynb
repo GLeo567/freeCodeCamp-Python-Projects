{
 "cells": [
  {
   "cell_type": "code",
   "execution_count": 2,
   "metadata": {},
   "outputs": [],
   "source": [
    "import numpy as np"
   ]
  },
  {
   "cell_type": "code",
   "execution_count": 58,
   "metadata": {},
   "outputs": [],
   "source": [
    "def calculate(num_list):\n",
    "    if len(num_list) < 9 or len(num_list) > 9:\n",
    "        raise ValueError(\"List must contain nine numbers.\")\n",
    "    else:\n",
    "        ar_1 = np.array(num_list)\n",
    "        matrix = np.reshape(ar_1, (3, 3))\n",
    "        m_shape = np.shape(matrix)\n",
    "\n",
    "        # Performing mean\n",
    "        mean = []\n",
    "        col_mean = list(np.mean(matrix, axis=0))\n",
    "        row_mean = list(np.mean(matrix, axis = 1))\n",
    "        matrix_mean = np.mean(matrix)\n",
    "        mean.append(col_mean)\n",
    "        mean.append(row_mean)\n",
    "        mean.append(matrix_mean)\n",
    "\n",
    "        # Perofmring variance\n",
    "        variance = []\n",
    "        col_var = list(np.var(matrix, axis=0))\n",
    "        row_var = list(np.var(matrix, axis=1))\n",
    "        matrix_var = np.var(matrix)\n",
    "        variance.append(col_var)\n",
    "        variance.append(row_var)\n",
    "        variance.append(matrix_var)\n",
    "\n",
    "        # Performing standard deviation\n",
    "        std_dev = []\n",
    "        col_std = list(np.std(matrix, axis=0))\n",
    "        row_std = list(np.std(matrix, axis=1))\n",
    "        matrix_std = np.std(matrix)\n",
    "        std_dev.append(col_std)\n",
    "        std_dev.append(row_std)\n",
    "        std_dev.append(matrix_std)\n",
    "        \n",
    "        # Performing max\n",
    "        max = []\n",
    "        col_max = list(np.amax(matrix, axis=0))\n",
    "        row_max = list(np.amax(matrix, axis=1))\n",
    "        matrix_max = np.max(matrix)\n",
    "        max.append(col_max)\n",
    "        max.append(row_max)\n",
    "        max.append(matrix_max)\n",
    "        \n",
    "        # Performing min\n",
    "        min = []\n",
    "        col_min = list(np.amin(matrix, axis=0))\n",
    "        row_min = list(np.amin(matrix, axis=1))\n",
    "        matrix_min = np.min(matrix)\n",
    "        min.append(col_min)\n",
    "        min.append(row_min)\n",
    "        min.append(matrix_min)\n",
    "\n",
    "        # Performing sum\n",
    "        # _matrix[0][0] is for columns and [0][1] for rows\n",
    "        # Last element will be the total for the entire matrix\n",
    "        sum_matrix = [[], []]\n",
    "        total = 0\n",
    "        # Rows\n",
    "        for i in range(m_shape[0]):\n",
    "            row_total = 0\n",
    "            col_total = 0\n",
    "            # Columns\n",
    "            for j in range(m_shape[1]):\n",
    "                row_total += matrix[i][j]\n",
    "                col_total += matrix[j][i]\n",
    "                total += matrix[i][j]\n",
    "            sum_matrix[0].append(col_total)\n",
    "            sum_matrix[1].append(row_total)\n",
    "        sum_matrix.append(total)\n",
    "\n",
    "        calculations = {\"mean\": mean, \n",
    "            \"variance\": variance,\n",
    "            \"standard deviation\": std_dev,\n",
    "            \"max\": max,\n",
    "            \"min\": min,\n",
    "            \"sum\": sum_matrix}\n",
    "                \n",
    "        return calculations"
   ]
  },
  {
   "cell_type": "code",
   "execution_count": 60,
   "metadata": {},
   "outputs": [
    {
     "name": "stdout",
     "output_type": "stream",
     "text": [
      "{'mean': [[3.0, 4.0, 5.0], [1.0, 4.0, 7.0], 4.0], 'variance': [[6.0, 6.0, 6.0], [0.6666666666666666, 0.6666666666666666, 0.6666666666666666], 6.666666666666667], 'standard deviation': [[2.449489742783178, 2.449489742783178, 2.449489742783178], [0.816496580927726, 0.816496580927726, 0.816496580927726], 2.581988897471611], 'max': [[6, 7, 8], [2, 5, 8], 8], 'min': [[0, 1, 2], [0, 3, 6], 0], 'sum': [[9, 12, 15], [3, 12, 21], 36]}\n"
     ]
    }
   ],
   "source": [
    "print(calculate([0, 1, 2, 3, 4, 5, 6, 7, 8]))\n"
   ]
  }
 ],
 "metadata": {
  "kernelspec": {
   "display_name": "Python 3.10.6 ('.env': venv)",
   "language": "python",
   "name": "python3"
  },
  "language_info": {
   "codemirror_mode": {
    "name": "ipython",
    "version": 3
   },
   "file_extension": ".py",
   "mimetype": "text/x-python",
   "name": "python",
   "nbconvert_exporter": "python",
   "pygments_lexer": "ipython3",
   "version": "3.10.6"
  },
  "orig_nbformat": 4,
  "vscode": {
   "interpreter": {
    "hash": "30d70980e2de20e3ce2b0bc53a27419f9c16df6f022e914e00dac079b7a71ae8"
   }
  }
 },
 "nbformat": 4,
 "nbformat_minor": 2
}
